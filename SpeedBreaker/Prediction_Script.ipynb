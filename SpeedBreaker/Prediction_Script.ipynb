import tensorflow as tf
from tensorflow.keras.preprocessing import image
import numpy as np
import PIL

def pre_process(img, target_shape):
  temp = image.load_img(img, target_size=target_shape)
  temp = np.array(temp)
  temp = np.expand_dims(temp, axis=0)
  return temp

def predict(img):  
  print(f"SpeedBreaker: {model.predict(img)[0][0]*100}%")

tf.keras.models.load_model("/content/drive/MyDrive/modelTrained");
!wget "https://cdn.discordapp.com/attachments/817059496131559515/832931578501005312/rubber-speed-breaker-500x500.jpg"

predict(pre_process("rubber-speed-breaker-500x500.jpg", [350, 350]))
