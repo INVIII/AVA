{
 "cells": [
  {
   "cell_type": "code",
   "execution_count": null,
   "metadata": {
    "collapsed": true
   },
   "outputs": [],
   "source": [
    "import tensorflow as tf\n",
    "from tensorflow.keras.applications.vgg16 import VGG16 as ptm\n",
    "from tensorflow.keras.applications.inception_v3 import preprocess_input\n",
    "from tensorflow.keras.models import Model\n",
    "from tensorflow.keras.optimizers import SGD, Adam\n",
    "from tensorflow.keras.preprocessing import image\n",
    "from tensorflow.keras.preprocessing.image import ImageDataGenerator\n",
    "from tensorflow.keras.layers import Dense, Dropout, Flatten\n"
   ]
  },
  {
   "cell_type": "code",
   "execution_count": null,
   "outputs": [],
   "source": [
    "IMAGE_SIZE = [350, 350]\n",
    "model = ptm(input_shape = IMAGE_SIZE + [3], weights = 'imagenet', include_top = False)\n",
    "model.trainable = False\n",
    "k = 2\n",
    "mod = Model(inputs=model.input, outputs = x)\n",
    "x = Flatten()(model.output)\n",
    "x = Dropout(0.2)(x)\n",
    "x = Dense(k, 'softmax')(x)\n",
    "mod.compile(optimizer=\"adam\", loss='categorical_crossentropy', metrics=['accuracy'])\n",
    "gen = ImageDataGenerator(rotation_range=0, horizontal_flip=True, zoom_range=0.2, preprocessing_function=preprocess_input)\n",
    "train_path = \"/content/drive/MyDrive/Model (1)/Data (1)/train (1)\"\n",
    "test_path = \"/content/drive/MyDrive/Model (1)/Data (1)/test (1)\""
   ],
   "metadata": {
    "collapsed": false,
    "pycharm": {
     "name": "#%%\n"
    }
   }
  },
  {
   "cell_type": "code",
   "execution_count": null,
   "outputs": [],
   "source": [
    "train_gen = gen.flow_from_directory(train_path, shuffle=True, target_size=IMAGE_SIZE)\n",
    "val_gen = gen.flow_from_directory(test_path, target_size=IMAGE_SIZE)"
   ],
   "metadata": {
    "collapsed": false,
    "pycharm": {
     "name": "#%%\n"
    }
   }
  },
  {
   "cell_type": "code",
   "execution_count": null,
   "outputs": [],
   "source": [
    "r = mod.fit(train_gen, validation_data=val_gen, epochs = 5)\n",
    "mod.save(\"modelTrained1\")"
   ],
   "metadata": {
    "collapsed": false,
    "pycharm": {
     "name": "#%%\n"
    }
   }
  }
 ],
 "metadata": {
  "kernelspec": {
   "display_name": "Python 3",
   "language": "python",
   "name": "python3"
  },
  "language_info": {
   "codemirror_mode": {
    "name": "ipython",
    "version": 2
   },
   "file_extension": ".py",
   "mimetype": "text/x-python",
   "name": "python",
   "nbconvert_exporter": "python",
   "pygments_lexer": "ipython2",
   "version": "2.7.6"
  }
 },
 "nbformat": 4,
 "nbformat_minor": 0
}