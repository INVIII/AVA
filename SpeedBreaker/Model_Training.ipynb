import tensorflow as tf
from tensorflow.keras.applications.vgg16 import VGG16 as ptm
from tensorflow.keras.applications.inception_v3 import preprocess_input
from tensorflow.keras.models import Model
from tensorflow.keras.optimizers import SGD, Adam
from tensorflow.keras.preprocessing import image
from tensorflow.keras.preprocessing.image import ImageDataGenerator
from tensorflow.keras.layers import Dense, Dropout, Flatten

IMAGE_SIZE = [350, 350]

model = ptm(input_shape = IMAGE_SIZE + [3], weights = 'imagenet', include_top = False)
model.trainable = False

k = 2
x = Flatten()(model.output)
x = Dense(k, 'softmax')(x)

mod = Model(inputs=model.input, outputs = x)
# mod.summary()     

mod.compile(optimizer="adam", loss='categorical_crossentropy', metrics=['accuracy'])
gen = ImageDataGenerator(rotation_range=0, horizontal_flip=True, zoom_range=0.2, preprocessing_function=preprocess_input)

train_path = "/content/drive/MyDrive/Model (1)/Data (1)/train (1)"
test_path = "/content/drive/MyDrive/Model (1)/Data (1)/test (1)"

train_gen = gen.flow_from_directory(train_path, shuffle=True, target_size=IMAGE_SIZE)
val_gen = gen.flow_from_directory(test_path, target_size=IMAGE_SIZE)

r = mod.fit(train_gen, validation_data=val_gen, epochs = 5)

# r.history
mod.save("modelTrained")
