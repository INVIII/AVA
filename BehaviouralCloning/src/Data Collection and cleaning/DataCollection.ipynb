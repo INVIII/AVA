{
 "cells": [
  {
   "cell_type": "code",
   "execution_count": 5,
   "metadata": {
    "collapsed": true
   },
   "outputs": [
    {
     "ename": "NameError",
     "evalue": "name 'color' is not defined",
     "output_type": "error",
     "traceback": [
      "\u001B[1;31m---------------------------------------------------------------------------\u001B[0m",
      "\u001B[1;31mNameError\u001B[0m                                 Traceback (most recent call last)",
      "\u001B[1;32m<ipython-input-5-a8e1a579ff1b>\u001B[0m in \u001B[0;36m<module>\u001B[1;34m\u001B[0m\n\u001B[0;32m      6\u001B[0m \u001B[1;32mimport\u001B[0m \u001B[0mcv2\u001B[0m\u001B[1;33m\u001B[0m\u001B[1;33m\u001B[0m\u001B[0m\n\u001B[0;32m      7\u001B[0m \u001B[1;32mfrom\u001B[0m \u001B[0mPIL\u001B[0m \u001B[1;32mimport\u001B[0m \u001B[0mImage\u001B[0m\u001B[1;33m\u001B[0m\u001B[1;33m\u001B[0m\u001B[0m\n\u001B[1;32m----> 8\u001B[1;33m \u001B[1;32mimport\u001B[0m \u001B[0mpygame\u001B[0m\u001B[1;33m\u001B[0m\u001B[1;33m\u001B[0m\u001B[0m\n\u001B[0m\u001B[0;32m      9\u001B[0m \u001B[1;33m\u001B[0m\u001B[0m\n\u001B[0;32m     10\u001B[0m \u001B[0mpygame\u001B[0m\u001B[1;33m.\u001B[0m\u001B[0mjoystick\u001B[0m\u001B[1;33m.\u001B[0m\u001B[0minit\u001B[0m\u001B[1;33m(\u001B[0m\u001B[1;33m)\u001B[0m\u001B[1;33m\u001B[0m\u001B[1;33m\u001B[0m\u001B[0m\n",
      "\u001B[1;32me:\\installation directory\\python\\lib\\site-packages\\pygame\\__init__.py\u001B[0m in \u001B[0;36m<module>\u001B[1;34m\u001B[0m\n\u001B[0;32m     87\u001B[0m \u001B[1;32mimport\u001B[0m \u001B[0mpygame\u001B[0m\u001B[1;33m.\u001B[0m\u001B[0msurflock\u001B[0m\u001B[1;33m\u001B[0m\u001B[1;33m\u001B[0m\u001B[0m\n\u001B[0;32m     88\u001B[0m \u001B[1;32mimport\u001B[0m \u001B[0mpygame\u001B[0m\u001B[1;33m.\u001B[0m\u001B[0mcolor\u001B[0m\u001B[1;33m\u001B[0m\u001B[1;33m\u001B[0m\u001B[0m\n\u001B[1;32m---> 89\u001B[1;33m \u001B[0mColor\u001B[0m \u001B[1;33m=\u001B[0m \u001B[0mcolor\u001B[0m\u001B[1;33m.\u001B[0m\u001B[0mColor\u001B[0m\u001B[1;33m\u001B[0m\u001B[1;33m\u001B[0m\u001B[0m\n\u001B[0m\u001B[0;32m     90\u001B[0m \u001B[1;32mimport\u001B[0m \u001B[0mpygame\u001B[0m\u001B[1;33m.\u001B[0m\u001B[0mbufferproxy\u001B[0m\u001B[1;33m\u001B[0m\u001B[1;33m\u001B[0m\u001B[0m\n\u001B[0;32m     91\u001B[0m \u001B[0mBufferProxy\u001B[0m \u001B[1;33m=\u001B[0m \u001B[0mbufferproxy\u001B[0m\u001B[1;33m.\u001B[0m\u001B[0mBufferProxy\u001B[0m\u001B[1;33m\u001B[0m\u001B[1;33m\u001B[0m\u001B[0m\n",
      "\u001B[1;31mNameError\u001B[0m: name 'color' is not defined"
     ]
    }
   ],
   "source": [
    "import time\n",
    "import pyautogui\n",
    "import numpy as np\n",
    "import pandas as pd\n",
    "import matplotlib.pyplot as plt\n",
    "import cv2\n",
    "from PIL import Image\n",
    "import pygame\n",
    "\n",
    "pygame.init()\n",
    "pygame.joystick.init()\n",
    "stick = pygame.joystick.Joystick(0)\n",
    "\n",
    "def pack(img):\n",
    "    temp = np.resize(img, (200 * 200 * 3))\n",
    "    return temp\n",
    "\n",
    "\n",
    "print(pygame.joystick.get_count())\n",
    "\n",
    "\n",
    "fps = 20\n",
    "delay = round(float(1 / fps), 3)\n",
    "time.sleep(5)\n",
    "capture = 100\n",
    "\n",
    "print('\\a')\n",
    "\n",
    "ls = []\n",
    "\n",
    "df = pd.DataFrame(columns=['images', 'steering_anle', 'throttle', 'brakes'])\n",
    "\n",
    "for i in range(capture):\n",
    "    time.sleep(delay)\n",
    "\n",
    "    pygame.joystick.Joystick(0).init()\n",
    "    pygame.event.pump()\n",
    "    stick.init()\n",
    "\n",
    "    screen = pyautogui.screenshot(region=(400, 475, 1920 - 400, 1080 - 775))\n",
    "    axis_0 = round(pygame.joystick.Joystick(0).get_axis(0), 4)\n",
    "    axis_5 = round(pygame.joystick.Joystick(0).get_axis(5), 4)\n",
    "    axis_4 = round(pygame.joystick.Joystick(0).get_axis(4), 4)\n",
    "    screen = np.array(screen)\n",
    "    screen = cv2.GaussianBlur(screen, (5, 5), 0)\n",
    "    screen = cv2.resize(screen, (200, 200))\n",
    "    screen = pack(screen)\n",
    "    d2 = {'image' : [screen], 'throttle': axis_5, 'brakes': axis_4, 'steering_angle':axis_0}\n",
    "    df2 = pd.DataFrame.from_records(d2)\n",
    "    df.append(df2)\n",
    "\n",
    "\n",
    "\n",
    "df = pd.DataFrame(ls, columns=['images', 'steering_anle', 'throttle', 'brakes'])\n",
    "\n",
    "df.to_csv(\"E:\\\\Harshvardhan\\\\ML\\\\train_data.csv\", index=False)\n",
    "\n",
    "print('\\a')"
   ]
  },
  {
   "cell_type": "code",
   "execution_count": null,
   "outputs": [],
   "source": [],
   "metadata": {
    "collapsed": false,
    "pycharm": {
     "name": "#%%\n"
    }
   }
  }
 ],
 "metadata": {
  "kernelspec": {
   "display_name": "Python 3",
   "language": "python",
   "name": "python3"
  },
  "language_info": {
   "codemirror_mode": {
    "name": "ipython",
    "version": 2
   },
   "file_extension": ".py",
   "mimetype": "text/x-python",
   "name": "python",
   "nbconvert_exporter": "python",
   "pygments_lexer": "ipython2",
   "version": "2.7.6"
  }
 },
 "nbformat": 4,
 "nbformat_minor": 0
}